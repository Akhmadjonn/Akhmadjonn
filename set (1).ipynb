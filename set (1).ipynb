{
 "cells": [
  {
   "cell_type": "markdown",
   "id": "673cd9",
   "metadata": {
    "collapsed": false
   },
   "source": [
    "# Set(to'plam)"
   ]
  },
  {
   "cell_type": "code",
   "execution_count": 12,
   "id": "b83c1e",
   "metadata": {
    "collapsed": false
   },
   "outputs": [
   ],
   "source": [
    "my_set={1,2,3}"
   ]
  },
  {
   "cell_type": "code",
   "execution_count": 13,
   "id": "79dff3",
   "metadata": {
    "collapsed": false
   },
   "outputs": [
    {
     "data": {
      "text/plain": [
       "{1, 2, 3}"
      ]
     },
     "execution_count": 13,
     "metadata": {
     },
     "output_type": "execute_result"
    }
   ],
   "source": [
    "my_set"
   ]
  },
  {
   "cell_type": "code",
   "execution_count": 0,
   "id": "466931",
   "metadata": {
    "collapsed": false
   },
   "outputs": [
   ],
   "source": [
    "#Tartiblash xususiyati:sonlar, str\n",
    "\n",
    "my_set={1,3,2}"
   ]
  },
  {
   "cell_type": "code",
   "execution_count": 15,
   "id": "d4e7e2",
   "metadata": {
    "collapsed": false
   },
   "outputs": [
    {
     "data": {
      "text/plain": [
       "{1, 2, 3}"
      ]
     },
     "execution_count": 15,
     "metadata": {
     },
     "output_type": "execute_result"
    }
   ],
   "source": [
    "my_set"
   ]
  },
  {
   "cell_type": "code",
   "execution_count": 0,
   "id": "cfc258",
   "metadata": {
    "collapsed": false
   },
   "outputs": [
   ],
   "source": [
    "#Duplicated elementlarni olib tashlash\n",
    "my_set={1,'Python',3,2,'Python'}"
   ]
  },
  {
   "cell_type": "code",
   "execution_count": 19,
   "id": "6d5955",
   "metadata": {
    "collapsed": false
   },
   "outputs": [
    {
     "data": {
      "text/plain": [
       "{1, 2, 3, 'Python'}"
      ]
     },
     "execution_count": 19,
     "metadata": {
     },
     "output_type": "execute_result"
    }
   ],
   "source": [
    "my_set"
   ]
  },
  {
   "cell_type": "code",
   "execution_count": 20,
   "id": "12be38",
   "metadata": {
    "collapsed": false
   },
   "outputs": [
   ],
   "source": [
    "\n",
    "my_set={1,3,2,(1,2)}"
   ]
  },
  {
   "cell_type": "code",
   "execution_count": 21,
   "id": "ac2970",
   "metadata": {
    "collapsed": false
   },
   "outputs": [
    {
     "data": {
      "text/plain": [
       "{(1, 2), 1, 2, 3}"
      ]
     },
     "execution_count": 21,
     "metadata": {
     },
     "output_type": "execute_result"
    }
   ],
   "source": [
    "my_set"
   ]
  },
  {
   "cell_type": "code",
   "execution_count": 22,
   "id": "ccbdc2",
   "metadata": {
    "collapsed": false
   },
   "outputs": [
    {
     "ename": "TypeError",
     "evalue": "unhashable type: 'list'",
     "output_type": "error",
     "traceback": [
      "\u001b[1;31m---------------------------------------------------------------------------\u001b[0m",
      "\u001b[1;31mTypeError\u001b[0m                                 Traceback (most recent call last)",
      "Cell \u001b[1;32mIn[22], line 1\u001b[0m\n\u001b[1;32m----> 1\u001b[0m my_set\u001b[38;5;241m=\u001b[39m{\u001b[38;5;241m1\u001b[39m,\u001b[38;5;241m3\u001b[39m,\u001b[38;5;241m2\u001b[39m,[\u001b[38;5;241m8\u001b[39m,\u001b[38;5;241m9\u001b[39m]}\n",
      "\u001b[1;31mTypeError\u001b[0m: unhashable type: 'list'"
     ]
    }
   ],
   "source": [
    "my_set={1,3,2,[8,9]}"
   ]
  },
  {
   "cell_type": "code",
   "execution_count": 23,
   "id": "03e79e",
   "metadata": {
    "collapsed": false
   },
   "outputs": [
    {
     "data": {
      "text/plain": [
       "{(1, 2), 1, 2, 3}"
      ]
     },
     "execution_count": 23,
     "metadata": {
     },
     "output_type": "execute_result"
    }
   ],
   "source": [
    "my_set"
   ]
  },
  {
   "cell_type": "code",
   "execution_count": 24,
   "id": "9a9e13",
   "metadata": {
    "collapsed": false
   },
   "outputs": [
    {
     "ename": "TypeError",
     "evalue": "unhashable type: 'set'",
     "output_type": "error",
     "traceback": [
      "\u001b[1;31m---------------------------------------------------------------------------\u001b[0m",
      "\u001b[1;31mTypeError\u001b[0m                                 Traceback (most recent call last)",
      "Cell \u001b[1;32mIn[24], line 1\u001b[0m\n\u001b[1;32m----> 1\u001b[0m my_set\u001b[38;5;241m=\u001b[39m{\u001b[38;5;241m1\u001b[39m,\u001b[38;5;241m3\u001b[39m,\u001b[38;5;241m2\u001b[39m,(\u001b[38;5;241m1\u001b[39m,\u001b[38;5;241m2\u001b[39m),{\u001b[38;5;241m1\u001b[39m,\u001b[38;5;241m2\u001b[39m}}\n",
      "\u001b[1;31mTypeError\u001b[0m: unhashable type: 'set'"
     ]
    }
   ],
   "source": [
    "my_set={1,3,2,(1,2),{1,2}}"
   ]
  },
  {
   "cell_type": "code",
   "execution_count": 25,
   "id": "e97d8a",
   "metadata": {
    "collapsed": false
   },
   "outputs": [
   ],
   "source": [
    "a={1,2,3,4}"
   ]
  },
  {
   "cell_type": "code",
   "execution_count": 0,
   "id": "5d77cf",
   "metadata": {
    "collapsed": false
   },
   "outputs": [
    {
     "data": {
      "text/plain": [
       "{1, 2, 3, 4, 5}"
      ]
     },
     "execution_count": 0,
     "metadata": {
     },
     "output_type": "execute_result"
    }
   ],
   "source": [
    "#list(append,)\n",
    "a.add(5)\n",
    "a"
   ]
  },
  {
   "cell_type": "code",
   "execution_count": 28,
   "id": "7818c3",
   "metadata": {
    "collapsed": false
   },
   "outputs": [
   ],
   "source": [
    "a.remove(5)"
   ]
  },
  {
   "cell_type": "code",
   "execution_count": 29,
   "id": "90a9da",
   "metadata": {
    "collapsed": false
   },
   "outputs": [
    {
     "data": {
      "text/plain": [
       "{1, 2, 3, 4}"
      ]
     },
     "execution_count": 29,
     "metadata": {
     },
     "output_type": "execute_result"
    }
   ],
   "source": [
    "a"
   ]
  },
  {
   "cell_type": "code",
   "execution_count": 0,
   "id": "31d4fc",
   "metadata": {
    "collapsed": false
   },
   "outputs": [
    {
     "data": {
      "text/plain": [
       "False"
      ]
     },
     "execution_count": 0,
     "metadata": {
     },
     "output_type": "execute_result"
    }
   ],
   "source": [
    "#Element bor yoki yoqligini tekshirish\n",
    "3.5 in a"
   ]
  },
  {
   "cell_type": "code",
   "execution_count": 32,
   "id": "123259",
   "metadata": {
    "collapsed": false
   },
   "outputs": [
    {
     "data": {
      "text/plain": [
       "{1, 2, 3, 4, 5, 6}"
      ]
     },
     "execution_count": 32,
     "metadata": {
     },
     "output_type": "execute_result"
    }
   ],
   "source": [
    "#Union\n",
    "a={1,2,4,5}\n",
    "b={2,3,6,4}\n",
    "a.union(b)\n"
   ]
  },
  {
   "cell_type": "code",
   "execution_count": 33,
   "id": "7fc980",
   "metadata": {
    "collapsed": false
   },
   "outputs": [
    {
     "data": {
      "text/plain": [
       "{2, 4}"
      ]
     },
     "execution_count": 33,
     "metadata": {
     },
     "output_type": "execute_result"
    }
   ],
   "source": [
    "#Intersection\n",
    "a={1,2,4,5}\n",
    "b={2,3,6,4}\n",
    "a.intersection(b)"
   ]
  },
  {
   "cell_type": "code",
   "execution_count": 34,
   "id": "4c2339",
   "metadata": {
    "collapsed": false
   },
   "outputs": [
    {
     "data": {
      "text/plain": [
       "{2, 4}"
      ]
     },
     "execution_count": 34,
     "metadata": {
     },
     "output_type": "execute_result"
    }
   ],
   "source": [
    "b.intersection(a)"
   ]
  },
  {
   "cell_type": "code",
   "execution_count": 35,
   "id": "847cbb",
   "metadata": {
    "collapsed": false
   },
   "outputs": [
    {
     "data": {
      "text/plain": [
       "{1, 5}"
      ]
     },
     "execution_count": 35,
     "metadata": {
     },
     "output_type": "execute_result"
    }
   ],
   "source": [
    "#Difference\n",
    "a={1,2,4,5}\n",
    "b={2,3,6,4}\n",
    "a.difference(b)\n"
   ]
  },
  {
   "cell_type": "code",
   "execution_count": 36,
   "id": "84133a",
   "metadata": {
    "collapsed": false
   },
   "outputs": [
    {
     "data": {
      "text/plain": [
       "{3, 6}"
      ]
     },
     "execution_count": 36,
     "metadata": {
     },
     "output_type": "execute_result"
    }
   ],
   "source": [
    "b.difference(a)"
   ]
  },
  {
   "cell_type": "code",
   "execution_count": 37,
   "id": "d6a458",
   "metadata": {
    "collapsed": false
   },
   "outputs": [
    {
     "data": {
      "text/plain": [
       "{1, 3, 5, 6}"
      ]
     },
     "execution_count": 37,
     "metadata": {
     },
     "output_type": "execute_result"
    }
   ],
   "source": [
    "#Symmatric Difference\n",
    "a={1,2,4,5}\n",
    "b={2,3,6,4}\n",
    "a.symmetric_difference(b)"
   ]
  },
  {
   "cell_type": "code",
   "execution_count": 42,
   "id": "777685",
   "metadata": {
    "collapsed": false
   },
   "outputs": [
    {
     "data": {
      "text/plain": [
       "True"
      ]
     },
     "execution_count": 42,
     "metadata": {
     },
     "output_type": "execute_result"
    }
   ],
   "source": [
    "#Subset\n",
    "a={1,2,3,4,5}\n",
    "b={3,4}\n",
    "b.issubset(a)"
   ]
  },
  {
   "cell_type": "code",
   "execution_count": 44,
   "id": "5c80fb",
   "metadata": {
    "collapsed": false
   },
   "outputs": [
    {
     "data": {
      "text/plain": [
       "True"
      ]
     },
     "execution_count": 44,
     "metadata": {
     },
     "output_type": "execute_result"
    }
   ],
   "source": [
    "#Superset\n",
    "a={1,2,3,4,5}\n",
    "b={3,4}\n",
    "a.issuperset(b)"
   ]
  },
  {
   "cell_type": "code",
   "execution_count": 45,
   "id": "670502",
   "metadata": {
    "collapsed": false
   },
   "outputs": [
    {
     "data": {
      "text/plain": [
       "5"
      ]
     },
     "execution_count": 45,
     "metadata": {
     },
     "output_type": "execute_result"
    }
   ],
   "source": [
    "#Uzunligi \n",
    "len(a)"
   ]
  },
  {
   "cell_type": "code",
   "execution_count": 46,
   "id": "89c88a",
   "metadata": {
    "collapsed": false
   },
   "outputs": [
   ],
   "source": [
    "#Tozlash\n",
    "a.clear()"
   ]
  },
  {
   "cell_type": "code",
   "execution_count": 47,
   "id": "920854",
   "metadata": {
    "collapsed": false
   },
   "outputs": [
    {
     "data": {
      "text/plain": [
       "set()"
      ]
     },
     "execution_count": 47,
     "metadata": {
     },
     "output_type": "execute_result"
    }
   ],
   "source": [
    "a"
   ]
  },
  {
   "cell_type": "markdown",
   "id": "ec32da",
   "metadata": {
    "collapsed": false
   },
   "source": [
    "# Qo'shimcha"
   ]
  },
  {
   "cell_type": "code",
   "execution_count": 49,
   "id": "1b2170",
   "metadata": {
    "collapsed": false
   },
   "outputs": [
    {
     "name": "stdout",
     "output_type": "stream",
     "text": [
      "The \"for\" statement\n",
      "*******************\n",
      "\n",
      "The \"for\" statement is used to iterate over the elements of a sequence\n",
      "(such as a string, tuple or list) or other iterable object:\n",
      "\n",
      "   for_stmt ::= \"for\" target_list \"in\" starred_list \":\" suite\n",
      "                [\"else\" \":\" suite]\n",
      "\n",
      "The \"starred_list\" expression is evaluated once; it should yield an\n",
      "*iterable* object.  An *iterator* is created for that iterable. The\n",
      "first item provided by the iterator is then assigned to the target\n",
      "list using the standard rules for assignments (see Assignment\n",
      "statements), and the suite is executed.  This repeats for each item\n",
      "provided by the iterator.  When the iterator is exhausted, the suite\n",
      "in the \"else\" clause, if present, is executed, and the loop\n",
      "terminates.\n",
      "\n",
      "A \"break\" statement executed in the first suite terminates the loop\n",
      "without executing the \"else\" clause’s suite.  A \"continue\" statement\n",
      "executed in the first suite skips the rest of the suite and continues\n",
      "with the next item, or with the \"else\" clause if there is no next\n",
      "item.\n",
      "\n",
      "The for-loop makes assignments to the variables in the target list.\n",
      "This overwrites all previous assignments to those variables including\n",
      "those made in the suite of the for-loop:\n",
      "\n",
      "   for i in range(10):\n",
      "       print(i)\n",
      "       i = 5             # this will not affect the for-loop\n",
      "                         # because i will be overwritten with the next\n",
      "                         # index in the range\n",
      "\n",
      "Names in the target list are not deleted when the loop is finished,\n",
      "but if the sequence is empty, they will not have been assigned to at\n",
      "all by the loop.  Hint: the built-in type \"range()\" represents\n",
      "immutable arithmetic sequences of integers. For instance, iterating\n",
      "\"range(3)\" successively yields 0, 1, and then 2.\n",
      "\n",
      "Changed in version 3.11: Starred elements are now allowed in the\n",
      "expression list.\n",
      "\n",
      "Related help topics: break, continue, while\n",
      "\n"
     ]
    }
   ],
   "source": [
    "help('for')"
   ]
  },
  {
   "cell_type": "markdown",
   "id": "885775",
   "metadata": {
    "collapsed": false
   },
   "source": [
    "# Vazifa\n"
   ]
  },
  {
   "cell_type": "code",
   "execution_count": 0,
   "id": "a9cc3e",
   "metadata": {
    "collapsed": false
   },
   "outputs": [
   ],
   "source": [
    "#List\n",
    "#1-dan 10-gacha bo'lgan sonlarni o'z ichiga olgan bir list yaratib, uni ekranga chiqaring\n",
    "#1-dan 10-gacha bo'lgan sonlarni o'z ichiga olgan bir list yarating va faqat juft/toq sonlarni  uni ekranga chiqaring\n",
    "# Istalgan list yarating va unga [\"Mango\", \"Grapes\", \"Pineapple\"] elementlarni qoshing\n",
    "# Yuqorida qoshgan elemenlaringizni o'chiring \n",
    "#List uzunligini toping\n",
    "#Berilgan listda eng katta va kichik sonni aniqlang:[10, 5, 3, 8, 20, 15]\n",
    "\n",
    "\n",
    "# Set\n",
    "# 1-dan 10-gacha bo'lgan sonlarni o'z ichiga olgan bir set yarating avval ular tartiblanmagan bo'lsin va  uni ekranga chiqaring\n",
    "# Yangi set yarating va unga 'python' va 100ni qo'shing \n",
    "# Yuqorida qo'shilgan ifodalarni setdan olib tashlang \n",
    "# Setlar orasidagi umumiy elementlarni toping a = {1, 2, 3, 4} b = {3, 4, 5, 6}\n",
    "# Setlarni birlashtiring a = {1, 2, 3, 4} b = {3, 4, 5, 6}\n",
    "# Setlardagi takrorlanadigan elementlarni aniqlang a = {1, 2, 3, 4} b = {3, 4, 5, 6}\n",
    "\n",
    " \n",
    "\n"
   ]
  },
  {
   "cell_type": "code",
   "execution_count": 2,
   "id": "fc5e58",
   "metadata": {
    "collapsed": false
   },
   "outputs": [
    {
     "name": "stdout",
     "output_type": "stream",
     "text": [
      "[1, 2, 3, 4, 5, 6, 7, 8, 9]\n"
     ]
    }
   ],
   "source": [
    "#1-dan 10-gacha bo'lgan sonlarni o'z ichiga olgan bir list yaratib, uni ekranga chiqaring\n",
    "a = list((1, 2, 3, 4, 5, 6, 7, 8, 9))\n",
    "print(a)"
   ]
  },
  {
   "cell_type": "code",
   "execution_count": 3,
   "id": "6298cc",
   "metadata": {
    "collapsed": false
   },
   "outputs": [
    {
     "name": "stdout",
     "output_type": "stream",
     "text": [
      "1\n",
      "3\n",
      "5\n",
      "7\n",
      "9\n"
     ]
    }
   ],
   "source": [
    "#1-dan 10-gacha bo'lgan sonlarni o'z ichiga olgan bir list yarating va faqat juft/toq sonlarni  uni ekranga chiqaring\n",
    "i = 0\n",
    "while i < len(a):\n",
    "    print(a[i])\n",
    "    i += 2"
   ]
  },
  {
   "cell_type": "code",
   "execution_count": 6,
   "id": "20b843",
   "metadata": {
    "collapsed": false
   },
   "outputs": [
    {
     "name": "stdout",
     "output_type": "stream",
     "text": [
      "[1, 2, 3, 4, 5, 6, 7, 8, 9, 'Mango', 'Grapes', 'Pineapple']\n"
     ]
    }
   ],
   "source": [
    "# Istalgan list yarating va unga [\"Mango\", \"Grapes\", \"Pineapple\"] elementlarni qoshing\n",
    "ls = [\"Mango\", \"Grapes\", \"Pineapple\"]\n",
    "new = a+ls\n",
    "print(new)"
   ]
  },
  {
   "cell_type": "code",
   "execution_count": 11,
   "id": "d3025c",
   "metadata": {
    "collapsed": false
   },
   "outputs": [
    {
     "name": "stdout",
     "output_type": "stream",
     "text": [
      "['Mango', 'Grapes', 'Pineapple']\n"
     ]
    }
   ],
   "source": [
    "# Yuqorida qoshgan elemenlaringizni o'chiring \n",
    "for i in a:\n",
    "    new.remove(i)\n",
    "print(new)"
   ]
  },
  {
   "cell_type": "code",
   "execution_count": 12,
   "id": "335151",
   "metadata": {
    "collapsed": false
   },
   "outputs": [
    {
     "name": "stdout",
     "output_type": "stream",
     "text": [
      "3\n"
     ]
    }
   ],
   "source": [
    "#List uzunligini toping\n",
    "print(len(new))"
   ]
  },
  {
   "cell_type": "code",
   "execution_count": 19,
   "id": "01fcdb",
   "metadata": {
    "collapsed": false
   },
   "outputs": [
    {
     "name": "stdout",
     "output_type": "stream",
     "text": [
      "min = 3   max = 20\n"
     ]
    }
   ],
   "source": [
    "#Berilgan listda eng katta va kichik sonni aniqlang:[10, 5, 3, 8, 20, 15]\n",
    "num = [10, 5, 3, 8, 20, 15]\n",
    "mi = num[0]\n",
    "ma = num[0]\n",
    "for i in range(1, len(num)):\n",
    "    if mi >= num[i]:\n",
    "        mi = num[i]\n",
    "    elif ma <= num[i]:\n",
    "        ma = num[i]\n",
    "print(\"min =\", mi, \" \", 'max =', ma)\n",
    "    "
   ]
  },
  {
   "cell_type": "code",
   "execution_count": 22,
   "id": "e12a06",
   "metadata": {
    "collapsed": false
   },
   "outputs": [
    {
     "name": "stdout",
     "output_type": "stream",
     "text": [
      "<class 'set'>\n"
     ]
    }
   ],
   "source": [
    "# 1-dan 10-gacha bo'lgan sonlarni o'z ichiga olgan bir set yarating avval ular tartiblanmagan bo'lsin va  uni ekranga chiqaring\n",
    "sett = set((1, 4, 2, 3, 7, 5, 6, 9, 8))\n",
    "print(type(sett))"
   ]
  },
  {
   "cell_type": "code",
   "execution_count": 23,
   "id": "97e0e8",
   "metadata": {
    "collapsed": false
   },
   "outputs": [
    {
     "name": "stdout",
     "output_type": "stream",
     "text": [
      "{'python', 1, 2, 3, 4, 5, 6, 7, 8, 9, 100}\n"
     ]
    }
   ],
   "source": [
    "# Yangi set yarating va unga 'python' va 100ni qo'shing \n",
    "sett.add('python')\n",
    "sett.add(100)\n",
    "\n",
    "print(sett)"
   ]
  },
  {
   "cell_type": "code",
   "execution_count": 24,
   "id": "7ecd2a",
   "metadata": {
    "collapsed": false
   },
   "outputs": [
    {
     "name": "stdout",
     "output_type": "stream",
     "text": [
      "{1, 2, 3, 4, 5, 6, 7, 8, 9}\n"
     ]
    }
   ],
   "source": [
    "# Yuqorida qo'shilgan ifodalarni setdan olib tashlang \n",
    "sett.remove('python')\n",
    "sett.remove(100)\n",
    "\n",
    "print(sett)"
   ]
  },
  {
   "cell_type": "code",
   "execution_count": 25,
   "id": "5b4074",
   "metadata": {
    "collapsed": false
   },
   "outputs": [
    {
     "name": "stdout",
     "output_type": "stream",
     "text": [
      "{3, 4}\n"
     ]
    }
   ],
   "source": [
    "# Setlar orasidagi umumiy elementlarni toping a = {1, 2, 3, 4} b = {3, 4, 5, 6}\n",
    "a = {1, 2, 3, 4} \n",
    "b = {3, 4, 5, 6}\n",
    "inter = a.intersection(b)\n",
    "print(inter)"
   ]
  },
  {
   "cell_type": "code",
   "execution_count": 26,
   "id": "dd6f73",
   "metadata": {
    "collapsed": false
   },
   "outputs": [
    {
     "name": "stdout",
     "output_type": "stream",
     "text": [
      "{1, 2, 3, 4, 5, 6}\n"
     ]
    }
   ],
   "source": [
    "# Setlarni birlashtiring a = {1, 2, 3, 4} b = {3, 4, 5, 6}\n",
    "a = {1, 2, 3, 4} \n",
    "b = {3, 4, 5, 6}\n",
    "c = a.union(b)\n",
    "print(c)"
   ]
  },
  {
   "cell_type": "code",
   "execution_count": 27,
   "id": "51c4fa",
   "metadata": {
    "collapsed": false
   },
   "outputs": [
    {
     "name": "stdout",
     "output_type": "stream",
     "text": [
      "{3, 4}\n"
     ]
    }
   ],
   "source": [
    "# Setlardagi takrorlanadigan elementlarni aniqlang a = {1, 2, 3, 4} b = {3, 4, 5, 6}\n",
    "a = {1, 2, 3, 4} \n",
    "b = {3, 4, 5, 6}\n",
    "inter = a.intersection(b)\n",
    "print(inter)"
   ]
  }
 ],
 "metadata": {
  "kernelspec": {
   "argv": [
    "/usr/bin/python3",
    "-m",
    "ipykernel",
    "--HistoryManager.enabled=False",
    "--matplotlib=inline",
    "-c",
    "%config InlineBackend.figure_formats = set(['retina'])\nimport matplotlib; matplotlib.rcParams['figure.figsize'] = (12, 7)",
    "-f",
    "{connection_file}"
   ],
   "display_name": "Python 3 (system-wide)",
   "env": {
   },
   "language": "python",
   "metadata": {
    "cocalc": {
     "description": "Python 3 programming language",
     "priority": 100,
     "url": "https://www.python.org/"
    }
   },
   "name": "python3",
   "resource_dir": "/ext/jupyter/kernels/python3"
  },
  "language_info": {
   "codemirror_mode": {
    "name": "ipython",
    "version": 3
   },
   "file_extension": ".py",
   "mimetype": "text/x-python",
   "name": "python",
   "nbconvert_exporter": "python",
   "pygments_lexer": "ipython3",
   "version": "3.10.12"
  }
 },
 "nbformat": 4,
 "nbformat_minor": 4
}