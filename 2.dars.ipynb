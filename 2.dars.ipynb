{
 "cells": [
  {
   "cell_type": "markdown",
   "metadata": {},
   "source": [
    "# Vazifa"
   ]
  },
  {
   "cell_type": "markdown",
   "metadata": {},
   "source": [
    "#Berilgan sonni musbat toq/ manfiy juft ekanligi aniqlang va uni Booleanda tekshiring\n",
    "#Berilgan ikki xonali sonni raqamlarini yig'indisini toping\n",
    "#Berilgan 3 xonali sonni raqamlar yig'indisini toping \n",
    "#Berilgan 3 xonali sonni teskari tartibda yozilganini toping(Masalan:123->321)\n",
    "#Berilgan sozdagi xarflar soni juft bolsa juft so'zli deb aks xolda toq so'zli deb umuman xarflardan iborat bolmasa xatolik bor deb ekranga chiqaring\n",
    "#Berilgan sonni 10 va 50 oraligida ekanligini tekshiring\n",
    "#Berilgan sonni 10 va 50 oraligida ekanligini tekshiring va agar shunda bolsa togri aks xolda xato deb ekranga chiqaring\n",
    "#Agar parol 8 tadan kam belgi/sonlardan iborat bolsa kuchsiz aks xolda kuchli parol deb ekranga chiqaring\n",
    "#Berilgan 3 ta sondan eng kattasini/kichigini/o'rtachasini aniqlaydigan kod yozing\n",
    "#Parol yarating va kod yozing agar kod to'gri bolsa xush kelibsiz aks xolda parol xato deb ekranga chiqaring\n",
    "#Darsdani misollarni takrorlash "
   ]
  },
  {
   "cell_type": "markdown",
   "metadata": {},
   "source": [
    "# Vazifalarga yechimlar\n"
   ]
  },
  {
   "cell_type": "code",
   "execution_count": 2,
   "metadata": {},
   "outputs": [
    {
     "name": "stdout",
     "output_type": "stream",
     "text": [
      "False\n"
     ]
    }
   ],
   "source": [
    "#Berilgan sonni musbat toq/ manfiy juft ekanligi aniqlang va uni Booleanda tekshiring\n",
    "\n",
    "#a = int(input(\"son kiriting: \"))\n",
    "a = 4\n",
    "\n",
    "if a>0 and a%2==1:\n",
    "    b = True\n",
    "else:\n",
    "    b = False\n",
    "\n",
    "print(b)"
   ]
  },
  {
   "cell_type": "code",
   "execution_count": 4,
   "metadata": {},
   "outputs": [
    {
     "name": "stdout",
     "output_type": "stream",
     "text": [
      "18\n"
     ]
    }
   ],
   "source": [
    "#Berilgan ikki xonali sonni raqamlarini yig'indisini toping\n",
    "a = 99\n",
    "s = a//10 + a%10\n",
    "print(s)"
   ]
  },
  {
   "cell_type": "code",
   "execution_count": 7,
   "metadata": {},
   "outputs": [
    {
     "name": "stdout",
     "output_type": "stream",
     "text": [
      "15\n"
     ]
    }
   ],
   "source": [
    "#Berilgan 3 xonali sonni raqamlar yig'indisini toping \n",
    "a = 456\n",
    "s = (a//10)//10 + (a//10)%10 + a%10\n",
    "print(s)"
   ]
  },
  {
   "cell_type": "code",
   "execution_count": 12,
   "metadata": {},
   "outputs": [
    {
     "name": "stdout",
     "output_type": "stream",
     "text": [
      "654\n"
     ]
    }
   ],
   "source": [
    "#Berilgan 3 xonali sonni teskari tartibda yozilganini toping(Masalan:123->321)\n",
    "a = 456\n",
    "s = (a//10)//10 + ((a//10)%10)*10 + (a%10)*100\n",
    "print(s)"
   ]
  },
  {
   "cell_type": "code",
   "execution_count": 18,
   "metadata": {},
   "outputs": [
    {
     "name": "stdout",
     "output_type": "stream",
     "text": [
      "xatolik bor\n"
     ]
    }
   ],
   "source": [
    "#Berilgan sozdagi xarflar soni juft bolsa juft so'zli deb aks xolda toq so'zli deb umuman xarflardan iborat bolmasa xatolik bor deb ekranga chiqaring\n",
    "a = \"1fsaf\"\n",
    "if len(a)%2==0 and a.isalpha():\n",
    "    print(\"juft so'zli\")\n",
    "elif len(a)%2==1 and a.isalpha():\n",
    "    print(\"to'q so'zli\")\n",
    "else:\n",
    "    print(\"xatolik bor\")"
   ]
  },
  {
   "cell_type": "code",
   "execution_count": 20,
   "metadata": {},
   "outputs": [
    {
     "name": "stdout",
     "output_type": "stream",
     "text": [
      "True\n"
     ]
    }
   ],
   "source": [
    "#Berilgan sonni 10 va 50 oraligida ekanligini tekshiring\n",
    "a = 47\n",
    "b = False\n",
    "\n",
    "if 10<a and a<50:\n",
    "    b = True\n",
    "\n",
    "print(b)"
   ]
  },
  {
   "cell_type": "code",
   "execution_count": 21,
   "metadata": {},
   "outputs": [
    {
     "name": "stdout",
     "output_type": "stream",
     "text": [
      "To'g'ri\n"
     ]
    }
   ],
   "source": [
    "#Berilgan sonni 10 va 50 oraligida ekanligini tekshiring va agar shunda bolsa togri aks xolda xato deb ekranga chiqaring\n",
    "a = 47\n",
    "b = \"Xato\"\n",
    "\n",
    "if 10<a and a<50:\n",
    "    b = \"To'g'ri\"\n",
    "\n",
    "print(b)"
   ]
  },
  {
   "cell_type": "code",
   "execution_count": 22,
   "metadata": {},
   "outputs": [
    {
     "name": "stdout",
     "output_type": "stream",
     "text": [
      "Kuchsiz\n"
     ]
    }
   ],
   "source": [
    "#Agar parol 8 tadan kam belgi/sonlardan iborat bolsa kuchsiz aks xolda kuchli parol deb ekranga chiqaring\n",
    "a = \"fadf\"\n",
    "\n",
    "if len(a) >= 8:\n",
    "    print(\"Kuchli\")\n",
    "else:\n",
    "    print(\"Kuchsiz\")"
   ]
  },
  {
   "cell_type": "code",
   "execution_count": 40,
   "metadata": {},
   "outputs": [
    {
     "name": "stdout",
     "output_type": "stream",
     "text": [
      "[3, 1, 2]\n"
     ]
    }
   ],
   "source": [
    "#Berilgan 3 ta sondan eng kattasini/kichigini/o'rtachasini aniqlaydigan kod yozing\n",
    "def misol(lst):\n",
    "\n",
    "    lis = lst[:]\n",
    "    new = []\n",
    "\n",
    "    new.append(max(lis))\n",
    "    lis.remove(max(lis))\n",
    "    new.append(min(lis))\n",
    "    lis.remove(min(lis))\n",
    "\n",
    "    if len(lis) == 1:  \n",
    "        new.append(lis[0])\n",
    "    elif len(lis) > 1:\n",
    "        new.extend(misol(lis))\n",
    "\n",
    "    return new\n",
    "\n",
    "a = [1, 2, 3]\n",
    "print(misol(a))\n"
   ]
  },
  {
   "cell_type": "code",
   "execution_count": 41,
   "metadata": {},
   "outputs": [
    {
     "name": "stdout",
     "output_type": "stream",
     "text": [
      "Xush kelibsiz\n"
     ]
    }
   ],
   "source": [
    "\n",
    "#Parol yarating va kod yozing agar kod to'gri bolsa xush kelibsiz aks xolda parol xato deb ekranga chiqaring\n",
    "parol = \"safdasf\"\n",
    "p = input()\n",
    "\n",
    "if p == parol:\n",
    "    print(\"Xush kelibsiz\")\n",
    "else:\n",
    "    print(\"parol xato\")"
   ]
  },
  {
   "cell_type": "markdown",
   "metadata": {},
   "source": []
  }
 ],
 "metadata": {
  "kernelspec": {
   "display_name": "Python 3",
   "language": "python",
   "name": "python3"
  },
  "language_info": {
   "codemirror_mode": {
    "name": "ipython",
    "version": 3
   },
   "file_extension": ".py",
   "mimetype": "text/x-python",
   "name": "python",
   "nbconvert_exporter": "python",
   "pygments_lexer": "ipython3",
   "version": "3.13.0"
  }
 },
 "nbformat": 4,
 "nbformat_minor": 2
}
